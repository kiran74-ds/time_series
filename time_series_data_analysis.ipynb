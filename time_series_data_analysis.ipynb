{
  "nbformat": 4,
  "nbformat_minor": 0,
  "metadata": {
    "colab": {
      "name": "time_series_data_analysis.ipynb",
      "provenance": [],
      "authorship_tag": "ABX9TyPRG/lb2K47i/qTBByNavxR",
      "include_colab_link": true
    },
    "kernelspec": {
      "name": "python3",
      "display_name": "Python 3"
    }
  },
  "cells": [
    {
      "cell_type": "markdown",
      "metadata": {
        "id": "view-in-github",
        "colab_type": "text"
      },
      "source": [
        "<a href=\"https://colab.research.google.com/github/kiran74-ds/time_series/blob/main/time_series_data_analysis.ipynb\" target=\"_parent\"><img src=\"https://colab.research.google.com/assets/colab-badge.svg\" alt=\"Open In Colab\"/></a>"
      ]
    },
    {
      "cell_type": "code",
      "metadata": {
        "colab": {
          "base_uri": "https://localhost:8080/"
        },
        "id": "MCs0sPLYU1qw",
        "outputId": "660d0abf-fe01-4516-d2c0-2898e4535bf2"
      },
      "source": [
        "!wget https://archive.ics.uci.edu/ml/machine-learning-databases/00501/PRSA2017_Data_20130301-20170228.zip"
      ],
      "execution_count": null,
      "outputs": [
        {
          "output_type": "stream",
          "text": [
            "--2020-12-29 13:59:33--  https://archive.ics.uci.edu/ml/machine-learning-databases/00501/PRSA2017_Data_20130301-20170228.zip\n",
            "Resolving archive.ics.uci.edu (archive.ics.uci.edu)... 128.195.10.252\n",
            "Connecting to archive.ics.uci.edu (archive.ics.uci.edu)|128.195.10.252|:443... connected.\n",
            "HTTP request sent, awaiting response... 200 OK\n",
            "Length: 7959991 (7.6M) [application/x-httpd-php]\n",
            "Saving to: ‘PRSA2017_Data_20130301-20170228.zip.1’\n",
            "\n",
            "PRSA2017_Data_20130 100%[===================>]   7.59M  27.6MB/s    in 0.3s    \n",
            "\n",
            "2020-12-29 13:59:34 (27.6 MB/s) - ‘PRSA2017_Data_20130301-20170228.zip.1’ saved [7959991/7959991]\n",
            "\n"
          ],
          "name": "stdout"
        }
      ]
    },
    {
      "cell_type": "code",
      "metadata": {
        "colab": {
          "base_uri": "https://localhost:8080/"
        },
        "id": "KjfCeiNQV_g1",
        "outputId": "85cb1b1d-e7b2-4077-f015-9c768df939b5"
      },
      "source": [
        "!unzip PRSA2017_Data_20130301-20170228.zip"
      ],
      "execution_count": null,
      "outputs": [
        {
          "output_type": "stream",
          "text": [
            "Archive:  PRSA2017_Data_20130301-20170228.zip\n",
            "replace PRSA_Data_20130301-20170228/PRSA_Data_Aotizhongxin_20130301-20170228.csv? [y]es, [n]o, [A]ll, [N]one, [r]ename: "
          ],
          "name": "stdout"
        }
      ]
    },
    {
      "cell_type": "code",
      "metadata": {
        "id": "gU7NgdqLWFMU"
      },
      "source": [
        "import pandas as pd\n",
        "import numpy as np\n",
        "from datetime import datetime\n",
        "import matplotlib.pyplot as plt"
      ],
      "execution_count": null,
      "outputs": []
    },
    {
      "cell_type": "code",
      "metadata": {
        "id": "hE2hwz3RWLAN"
      },
      "source": [
        "df = pd.read_csv('PRSA_Data_20130301-20170228/PRSA_Data_Dingling_20130301-20170228.csv')"
      ],
      "execution_count": null,
      "outputs": []
    },
    {
      "cell_type": "code",
      "metadata": {
        "id": "u-AZzsjgWXH_"
      },
      "source": [
        "df.head()"
      ],
      "execution_count": null,
      "outputs": []
    },
    {
      "cell_type": "code",
      "metadata": {
        "id": "HhLJdPTqWYq-"
      },
      "source": [
        "df.shape"
      ],
      "execution_count": null,
      "outputs": []
    },
    {
      "cell_type": "code",
      "metadata": {
        "id": "nZoyYk6fWZlB"
      },
      "source": [
        "def convert_to_date(x):\n",
        "  return datetime.strptime(x, '%Y %m %d %H')"
      ],
      "execution_count": null,
      "outputs": []
    },
    {
      "cell_type": "code",
      "metadata": {
        "id": "9yjkf1sjXDOJ"
      },
      "source": [
        "df = pd.read_csv('PRSA_Data_20130301-20170228/PRSA_Data_Dingling_20130301-20170228.csv', \n",
        "                 parse_dates=[['year', 'month', 'day', 'hour']], date_parser=convert_to_date, keep_date_col=True)"
      ],
      "execution_count": null,
      "outputs": []
    },
    {
      "cell_type": "code",
      "metadata": {
        "id": "BesWgHd7XPSI"
      },
      "source": [
        "df"
      ],
      "execution_count": null,
      "outputs": []
    },
    {
      "cell_type": "code",
      "metadata": {
        "id": "zAT2zeKQX7Zp"
      },
      "source": [
        "df.info()"
      ],
      "execution_count": null,
      "outputs": []
    },
    {
      "cell_type": "code",
      "metadata": {
        "id": "pHpylFWTMf3q"
      },
      "source": [
        "df['month'] = pd.to_numeric(df['month'])"
      ],
      "execution_count": null,
      "outputs": []
    },
    {
      "cell_type": "code",
      "metadata": {
        "id": "u19UBhx0wBib"
      },
      "source": [
        "df.shape"
      ],
      "execution_count": null,
      "outputs": []
    },
    {
      "cell_type": "code",
      "metadata": {
        "id": "0v1tvra-wF88"
      },
      "source": [
        "df.isnull().sum()"
      ],
      "execution_count": null,
      "outputs": []
    },
    {
      "cell_type": "code",
      "metadata": {
        "id": "aKccepu3wWhB"
      },
      "source": [
        "df.describe()"
      ],
      "execution_count": null,
      "outputs": []
    },
    {
      "cell_type": "code",
      "metadata": {
        "id": "ArHgXvEcwKWQ"
      },
      "source": [
        "df_no_indexed = df.copy()"
      ],
      "execution_count": null,
      "outputs": []
    },
    {
      "cell_type": "code",
      "metadata": {
        "id": "bdF4yeaiwPyW"
      },
      "source": [
        "df = df.set_index('year_month_day_hour')"
      ],
      "execution_count": null,
      "outputs": []
    },
    {
      "cell_type": "code",
      "metadata": {
        "id": "WVNu7ylRwh22"
      },
      "source": [
        "df.loc['2013-03-01':'2013-03-05']"
      ],
      "execution_count": null,
      "outputs": []
    },
    {
      "cell_type": "code",
      "metadata": {
        "id": "hlfHCMciwihM"
      },
      "source": [
        "pm_data = df['PM2.5']\n",
        "pm_data.head()"
      ],
      "execution_count": null,
      "outputs": []
    },
    {
      "cell_type": "code",
      "metadata": {
        "id": "r9AnZh_Zw_Vh"
      },
      "source": [
        "pm_data.plot();"
      ],
      "execution_count": null,
      "outputs": []
    },
    {
      "cell_type": "code",
      "metadata": {
        "id": "Jq3E0ji1xDRd"
      },
      "source": [
        "df_2015 = df.loc['2015']\n",
        "pm_data_2015 = df_2015['PM2.5']\n",
        "pm_data_2015.plot();"
      ],
      "execution_count": null,
      "outputs": []
    },
    {
      "cell_type": "code",
      "metadata": {
        "id": "IBR2dhH3xMMT"
      },
      "source": [
        "df_2016 = df.loc['2016']\n",
        "pm_data_2016 = df_2016['PM2.5']\n",
        "pm_data_2016.plot();"
      ],
      "execution_count": null,
      "outputs": []
    },
    {
      "cell_type": "code",
      "metadata": {
        "id": "lkN0cJpCxj9u"
      },
      "source": [
        "import plotly.express as px\n",
        "fig = px.line(df_no_indexed, x='year_month_day_hour', y='PM2.5')\n",
        "\n",
        "fig.update_xaxes(rangeslider_visible=True)\n",
        "fig.show()"
      ],
      "execution_count": null,
      "outputs": []
    },
    {
      "cell_type": "code",
      "metadata": {
        "id": "b-_bGlfkyBOz"
      },
      "source": [
        "import plotly.express as px\n",
        "fig = px.line(df_no_indexed, x='year_month_day_hour', y='PM2.5')\n",
        "\n",
        "fig.update_xaxes(rangeslider_visible=True,\n",
        "                 rangeselector=dict(\n",
        "                     buttons = list([\n",
        "                                     dict(count=1, label='1y', step=\"year\", stepmode='backward'),\n",
        "                                     dict(count=2, label='2y', step=\"year\", stepmode='backward'),\n",
        "                                     dict(count=3, label='3y', step=\"year\", stepmode='backward'),\n",
        "                                     dict(step='all')\n",
        "\n",
        "                     ])))\n",
        "fig.show()"
      ],
      "execution_count": null,
      "outputs": []
    },
    {
      "cell_type": "code",
      "metadata": {
        "id": "oZuaRbAFzFCF"
      },
      "source": [
        "df_2014 = df['2014'].reset_index()\n",
        "df_2015 = df['2015'].reset_index()"
      ],
      "execution_count": null,
      "outputs": []
    },
    {
      "cell_type": "code",
      "metadata": {
        "id": "eE3A_KpP07DM"
      },
      "source": [
        "df_2014['month_day'] = df_2014.apply(lambda x: str(x['month'])+\"-\"+x['day'], axis=1)\n",
        "df_2015['month_day'] = df_2015.apply(lambda x: str(x['month'])+\"-\"+x['day'], axis=1)"
      ],
      "execution_count": null,
      "outputs": []
    },
    {
      "cell_type": "code",
      "metadata": {
        "id": "IvmtNFWL0739"
      },
      "source": [
        "plt.plot(df_2014['month_day'], df_2014['PM2.5'])\n",
        "plt.plot(df_2015['month_day'], df_2015['PM2.5'])"
      ],
      "execution_count": null,
      "outputs": []
    },
    {
      "cell_type": "code",
      "metadata": {
        "id": "pr8WyROA1gkX"
      },
      "source": [
        "df['2014':'2016'][['month', 'PM2.5']].groupby('month').describe()"
      ],
      "execution_count": null,
      "outputs": []
    },
    {
      "cell_type": "code",
      "metadata": {
        "id": "Baju024B1yZS"
      },
      "source": [
        "df['2014':'2016'][['month', 'PM2.5', 'TEMP']].groupby('month').agg({'PM2.5':['max'], 'TEMP':['min', 'max']})"
      ],
      "execution_count": null,
      "outputs": []
    },
    {
      "cell_type": "code",
      "metadata": {
        "id": "oniZl0mU2PyO"
      },
      "source": [
        "df['2015']"
      ],
      "execution_count": null,
      "outputs": []
    },
    {
      "cell_type": "code",
      "metadata": {
        "id": "l2A0Lntv1oZ4"
      },
      "source": [
        " pm_data_2015 = df['2015'][['PM2.5', 'TEMP']]\n",
        " pm_data_2015.plot(subplots=True)"
      ],
      "execution_count": null,
      "outputs": []
    },
    {
      "cell_type": "code",
      "metadata": {
        "id": "s7BYp_6X2Jnt"
      },
      "source": [
        "df[['PM2.5', 'TEMP']].hist()"
      ],
      "execution_count": null,
      "outputs": []
    },
    {
      "cell_type": "code",
      "metadata": {
        "id": "e_BWMcBS2mRG"
      },
      "source": [
        "df_2015[['TEMP']].plot(kind='density')"
      ],
      "execution_count": null,
      "outputs": []
    },
    {
      "cell_type": "code",
      "metadata": {
        "id": "6_o9PcsB2zQ2"
      },
      "source": [
        "pd.plotting.lag_plot(df['TEMP'], lag=1)"
      ],
      "execution_count": null,
      "outputs": []
    },
    {
      "cell_type": "code",
      "metadata": {
        "id": "cFCDCYgX3Cpu"
      },
      "source": [
        "pd.plotting.lag_plot(df['TEMP'], lag=10)"
      ],
      "execution_count": null,
      "outputs": []
    },
    {
      "cell_type": "code",
      "metadata": {
        "id": "pCfNOfND3Fzj"
      },
      "source": [
        "pd.plotting.lag_plot(df['TEMP'], lag=24)"
      ],
      "execution_count": null,
      "outputs": []
    },
    {
      "cell_type": "code",
      "metadata": {
        "id": "9SEQF0e44Ggv"
      },
      "source": [
        "pd.plotting.lag_plot(df['TEMP'], lag=8640)"
      ],
      "execution_count": null,
      "outputs": []
    },
    {
      "cell_type": "code",
      "metadata": {
        "id": "eZlsSQQI3W2a"
      },
      "source": [
        "pd.plotting.lag_plot(df['TEMP'], lag=4320)"
      ],
      "execution_count": null,
      "outputs": []
    },
    {
      "cell_type": "code",
      "metadata": {
        "id": "m7fXZVwl4AMm"
      },
      "source": [
        "pd.plotting.lag_plot(df['TEMP'], lag=2150)"
      ],
      "execution_count": null,
      "outputs": []
    },
    {
      "cell_type": "code",
      "metadata": {
        "id": "t_8uSTsM4Dzx"
      },
      "source": [
        " pm_data_2015 = df['2015'][['PM2.5', 'TEMP', 'PRES']]\n",
        " pm_data_2015.plot(subplots=True)"
      ],
      "execution_count": null,
      "outputs": []
    },
    {
      "cell_type": "code",
      "metadata": {
        "id": "lsYqx37T4Sqb"
      },
      "source": [
        "plt.figure(figsize=(20, 10))\n",
        "multi_data = df[['TEMP', 'PRES', 'DEWP', 'RAIN', 'PM2.5']]\n",
        "multi_data.plot(subplots=True)"
      ],
      "execution_count": null,
      "outputs": []
    },
    {
      "cell_type": "code",
      "metadata": {
        "id": "IHyBaK6x4trn"
      },
      "source": [
        "multi_data = df[['TEMP', 'PRES', 'DEWP', 'RAIN', 'PM2.5']]\n",
        "multi_data.plot(subplots=True)"
      ],
      "execution_count": null,
      "outputs": []
    },
    {
      "cell_type": "code",
      "metadata": {
        "id": "kzKY2IaF48kt"
      },
      "source": [
        "import seaborn as sns"
      ],
      "execution_count": null,
      "outputs": []
    },
    {
      "cell_type": "code",
      "metadata": {
        "id": "tZ-sqrt55ZXZ"
      },
      "source": [
        "g = sns.pairplot(df[['SO2', 'NO2', 'O3', 'CO', 'PM2.5']])"
      ],
      "execution_count": null,
      "outputs": []
    },
    {
      "cell_type": "code",
      "metadata": {
        "id": "CR23CCSE5lfh"
      },
      "source": [
        "df_corr = df[['SO2', 'NO2', 'O3', 'CO', 'PM2.5']].corr(method='pearson')"
      ],
      "execution_count": null,
      "outputs": []
    },
    {
      "cell_type": "code",
      "metadata": {
        "id": "uYjAa3BO5v3F"
      },
      "source": [
        "sns.heatmap(df_corr, annot=True)"
      ],
      "execution_count": null,
      "outputs": []
    },
    {
      "cell_type": "code",
      "metadata": {
        "id": "a8mUsKfc54gT"
      },
      "source": [
        "df_na = df.copy()\n",
        "df_na = df_na.dropna()"
      ],
      "execution_count": null,
      "outputs": []
    },
    {
      "cell_type": "code",
      "metadata": {
        "id": "6I1LwOtG6ZKD"
      },
      "source": [
        "pd.plotting.autocorrelation_plot(df_na['2014':'2016']['TEMP'])"
      ],
      "execution_count": null,
      "outputs": []
    },
    {
      "cell_type": "code",
      "metadata": {
        "id": "xfZOLX3L6fAx"
      },
      "source": [
        "df['TEMP'].resample(\"1m\").mean()"
      ],
      "execution_count": null,
      "outputs": []
    },
    {
      "cell_type": "code",
      "metadata": {
        "id": "i01791Yn637u"
      },
      "source": [
        "pd.plotting.autocorrelation_plot(df_na['2014':'2016']['TEMP'].resample(\"1m\").mean())"
      ],
      "execution_count": null,
      "outputs": []
    },
    {
      "cell_type": "code",
      "metadata": {
        "id": "Ic15MSGg7BCn"
      },
      "source": [
        "pd.plotting.autocorrelation_plot(df_na['2014':'2016']['PM2.5'].resample(\"1m\").mean())"
      ],
      "execution_count": null,
      "outputs": []
    },
    {
      "cell_type": "code",
      "metadata": {
        "id": "voJnetwq7N8R"
      },
      "source": [
        "df.isnull().sum()"
      ],
      "execution_count": null,
      "outputs": []
    },
    {
      "cell_type": "code",
      "metadata": {
        "id": "dzwi1xTqbRwN"
      },
      "source": [
        "df[df['PM2.5'].isnull()]"
      ],
      "execution_count": null,
      "outputs": []
    },
    {
      "cell_type": "code",
      "metadata": {
        "id": "2_kULqjMgmCK"
      },
      "source": [
        "df_temp = df[['TEMP']]['2015-02-21']"
      ],
      "execution_count": null,
      "outputs": []
    },
    {
      "cell_type": "code",
      "metadata": {
        "id": "gfG9a7vhb-pA"
      },
      "source": [
        "df_temp['TEMP_ffill'] = df_temp['TEMP'].fillna(method='ffill')"
      ],
      "execution_count": null,
      "outputs": []
    },
    {
      "cell_type": "code",
      "metadata": {
        "id": "PCP2SbCXf7s8"
      },
      "source": [
        "df_temp['TEMP_bfill'] = df_temp['TEMP'].fillna(method='bfill')"
      ],
      "execution_count": null,
      "outputs": []
    },
    {
      "cell_type": "code",
      "metadata": {
        "id": "7ov8CR7QgNSx"
      },
      "source": [
        "df_temp['rolling'] = df_temp['TEMP'].rolling(window=2, min_periods=1).mean()"
      ],
      "execution_count": null,
      "outputs": []
    },
    {
      "cell_type": "code",
      "metadata": {
        "id": "0EhTEmOugWpy"
      },
      "source": [
        "df_temp"
      ],
      "execution_count": null,
      "outputs": []
    },
    {
      "cell_type": "code",
      "metadata": {
        "id": "zVlVkP4sglOi"
      },
      "source": [
        "df.loc[df_temp.index + pd.offsets.DateOffset(years=-1)]['TEMP']"
      ],
      "execution_count": null,
      "outputs": []
    },
    {
      "cell_type": "code",
      "metadata": {
        "id": "luFi2e67h8zK"
      },
      "source": [
        ""
      ],
      "execution_count": null,
      "outputs": []
    }
  ]
}